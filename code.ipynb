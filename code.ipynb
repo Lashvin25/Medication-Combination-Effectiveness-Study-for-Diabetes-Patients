{
 "cells": [
  {
   "cell_type": "code",
   "execution_count": 7,
   "metadata": {},
   "outputs": [],
   "source": [
    "import pandas as pd\n",
    "\n",
    "# Load the CSV file into a DataFrame\n",
    "df = pd.read_csv('D:/diabetes+130-us+hospitals+for+years+1999-2008/diabetic_data.csv')\n",
    "\n",
    "# Specify the column name you want to check\n",
    "column_name = 'diag_3'"
   ]
  },
  {
   "cell_type": "code",
   "execution_count": null,
   "metadata": {},
   "outputs": [],
   "source": [
    "# Count the occurrences of '?'\n",
    "question_mark_count = df[column_name].str.count(r'\\?').sum()\n",
    "\n",
    "print(f\"The number of '?' in the column '{column_name}' is: {question_mark_count}\")\n"
   ]
  },
  {
   "cell_type": "code",
   "execution_count": 10,
   "metadata": {},
   "outputs": [
    {
     "name": "stdout",
     "output_type": "stream",
     "text": [
      "2         V27\n",
      "6         V45\n",
      "23        V43\n",
      "71        V45\n",
      "89        V42\n",
      "         ... \n",
      "101571    V58\n",
      "101616    V45\n",
      "101636    V10\n",
      "101639    V58\n",
      "101683    V45\n",
      "Name: diag_3, Length: 3814, dtype: object\n"
     ]
    }
   ],
   "source": [
    "# Find rows where the column contains 'V'\n",
    "cells_with_v = df[df[column_name].str.contains('V', na=False)][column_name]\n",
    "\n",
    "# Display the cells\n",
    "print(cells_with_v)\n"
   ]
  },
  {
   "cell_type": "code",
   "execution_count": 11,
   "metadata": {},
   "outputs": [
    {
     "name": "stdout",
     "output_type": "stream",
     "text": [
      "Number of cells containing 'V': 3814\n"
     ]
    }
   ],
   "source": [
    "\n",
    "# Find and count cells in the column that contain 'V'\n",
    "count_cells_with_v = df[column_name].str.contains('V', na=False).sum()\n",
    "\n",
    "# Display the count\n",
    "print(f\"Number of cells containing 'V': {count_cells_with_v}\")"
   ]
  },
  {
   "cell_type": "code",
   "execution_count": 12,
   "metadata": {},
   "outputs": [],
   "source": [
    "# Replace cells containing 'V' with '?'\n",
    "df[column_name] = df[column_name].apply(lambda x: '?' if 'V' in str(x) else x)\n"
   ]
  },
  {
   "cell_type": "code",
   "execution_count": 13,
   "metadata": {},
   "outputs": [
    {
     "name": "stdout",
     "output_type": "stream",
     "text": [
      "Number of cells containing 'V': 0\n"
     ]
    }
   ],
   "source": [
    "\n",
    "# Find and count cells in the column that contain 'V'\n",
    "count_cells_with_v = df[column_name].str.contains('V', na=False).sum()\n",
    "\n",
    "# Display the count\n",
    "print(f\"Number of cells containing 'V': {count_cells_with_v}\")"
   ]
  },
  {
   "cell_type": "code",
   "execution_count": 14,
   "metadata": {},
   "outputs": [
    {
     "name": "stdout",
     "output_type": "stream",
     "text": [
      "Mean of the column: 418.1792854069371\n",
      "Median of the column: 403.0\n"
     ]
    }
   ],
   "source": [
    "# Convert the column to numeric, coercing errors (e.g., cells with 'V') to NaN\n",
    "df[column_name] = pd.to_numeric(df[column_name], errors='coerce')\n",
    "\n",
    "# Calculate the mean and median, ignoring NaN values\n",
    "mean_value = df[column_name].mean()\n",
    "median_value = df[column_name].median()\n",
    "\n",
    "# Display the results\n",
    "print(f\"Mean of the column: {mean_value}\")\n",
    "print(f\"Median of the column: {median_value}\")"
   ]
  },
  {
   "cell_type": "code",
   "execution_count": 18,
   "metadata": {},
   "outputs": [
    {
     "name": "stdout",
     "output_type": "stream",
     "text": [
      "Number of cells containing '?' in column 'encounter_id': 0\n",
      "Number of cells containing '?' in column 'patient_nbr': 0\n",
      "Number of cells containing '?' in column 'gender': 0\n",
      "Number of cells containing '?' in column 'age': 0\n",
      "Number of cells containing '?' in column 'admission_type_id': 0\n",
      "Number of cells containing '?' in column 'discharge_disposition_id': 0\n",
      "Number of cells containing '?' in column 'admission_source_id': 0\n",
      "Number of cells containing '?' in column 'time_in_hospital': 0\n",
      "Number of cells containing '?' in column 'medical_specialty': 49949\n",
      "Number of cells containing '?' in column 'num_lab_procedures': 0\n",
      "Number of cells containing '?' in column 'num_procedures': 0\n",
      "Number of cells containing '?' in column 'num_medications': 0\n",
      "Number of cells containing '?' in column 'number_outpatient': 0\n",
      "Number of cells containing '?' in column 'number_emergency': 0\n",
      "Number of cells containing '?' in column 'number_inpatient': 0\n",
      "Number of cells containing '?' in column 'number_diagnoses': 0\n",
      "Number of cells containing '?' in column 'max_glu_serum': 0\n",
      "Number of cells containing '?' in column 'A1Cresult': 0\n",
      "Number of cells containing '?' in column 'metformin': 0\n",
      "Number of cells containing '?' in column 'repaglinide': 0\n",
      "Number of cells containing '?' in column 'nateglinide': 0\n",
      "Number of cells containing '?' in column 'chlorpropamide': 0\n",
      "Number of cells containing '?' in column 'glimepiride': 0\n",
      "Number of cells containing '?' in column 'acetohexamide': 0\n",
      "Number of cells containing '?' in column 'glipizide': 0\n",
      "Number of cells containing '?' in column 'glyburide': 0\n",
      "Number of cells containing '?' in column 'tolbutamide': 0\n",
      "Number of cells containing '?' in column 'pioglitazone': 0\n",
      "Number of cells containing '?' in column 'rosiglitazone': 0\n",
      "Number of cells containing '?' in column 'acarbose': 0\n",
      "Number of cells containing '?' in column 'miglitol': 0\n",
      "Number of cells containing '?' in column 'troglitazone': 0\n",
      "Number of cells containing '?' in column 'tolazamide': 0\n",
      "Number of cells containing '?' in column 'examide': 0\n",
      "Number of cells containing '?' in column 'citoglipton': 0\n",
      "Number of cells containing '?' in column 'insulin': 0\n",
      "Number of cells containing '?' in column 'glyburide-metformin': 0\n",
      "Number of cells containing '?' in column 'glipizide-metformin': 0\n",
      "Number of cells containing '?' in column 'glimepiride-pioglitazone': 0\n",
      "Number of cells containing '?' in column 'metformin-rosiglitazone': 0\n",
      "Number of cells containing '?' in column 'metformin-pioglitazone': 0\n",
      "Number of cells containing '?' in column 'change': 0\n",
      "Number of cells containing '?' in column 'diabetesMed': 0\n",
      "Number of cells containing '?' in column 'readmitted': 0\n"
     ]
    }
   ],
   "source": [
    "# List of columns you want to check\n",
    "columns_to_check = [\n",
    "    'encounter_id', 'patient_nbr', 'gender', 'age',\n",
    "    'admission_type_id', 'discharge_disposition_id', 'admission_source_id',\n",
    "    'time_in_hospital', 'medical_specialty', 'num_lab_procedures',\n",
    "    'num_procedures', 'num_medications', 'number_outpatient', 'number_emergency',\n",
    "    'number_inpatient', 'number_diagnoses',\n",
    "    'max_glu_serum', 'A1Cresult', 'metformin', 'repaglinide', 'nateglinide',\n",
    "    'chlorpropamide', 'glimepiride', 'acetohexamide', 'glipizide', 'glyburide',\n",
    "    'tolbutamide', 'pioglitazone', 'rosiglitazone', 'acarbose', 'miglitol',\n",
    "    'troglitazone', 'tolazamide', 'examide', 'citoglipton', 'insulin',\n",
    "    'glyburide-metformin', 'glipizide-metformin', 'glimepiride-pioglitazone',\n",
    "    'metformin-rosiglitazone', 'metformin-pioglitazone', 'change', 'diabetesMed',\n",
    "    'readmitted'\n",
    "]  # Replace with your actual column names\n",
    "\n",
    "\n",
    "# Initialize a dictionary to store counts for each column\n",
    "counts = {}\n",
    "\n",
    "# Loop through each column and count the number of cells containing '?'\n",
    "for column in columns_to_check:\n",
    "    if column in df.columns:\n",
    "        count_question_marks = df[column].astype(str).str.count('\\?').sum()\n",
    "        counts[column] = count_question_marks\n",
    "    else:\n",
    "        counts[column] = \"Column not found\"\n",
    "\n",
    "# Display the counts for each column\n",
    "for column, count in counts.items():\n",
    "    print(f\"Number of cells containing '?' in column '{column}': {count}\")"
   ]
  },
  {
   "cell_type": "code",
   "execution_count": 1,
   "metadata": {},
   "outputs": [
    {
     "name": "stdout",
     "output_type": "stream",
     "text": [
      "Column 'diag_1':\n",
      "  Mean: 493.58307032967036\n",
      "  Median: 440.0\n",
      "\n",
      "--------------------------------------------------\n",
      "\n",
      "Column 'diag_2':\n",
      "  Mean: 438.67488318229636\n",
      "  Median: 425.0\n",
      "\n",
      "--------------------------------------------------\n",
      "\n",
      "Column 'diag_3':\n",
      "  Mean: 418.1792854069371\n",
      "  Median: 403.0\n",
      "\n",
      "--------------------------------------------------\n",
      "\n"
     ]
    }
   ],
   "source": [
    "import pandas as pd\n",
    "\n",
    "# Load the CSV file into a DataFrame\n",
    "df = pd.read_csv('D:/diabetes+130-us+hospitals+for+years+1999-2008/diabetic_data.csv')\n",
    "\n",
    "# List of column names to check\n",
    "columns_to_check = ['diag_1', 'diag_2', 'diag_3']\n",
    "\n",
    "for column_name in columns_to_check:\n",
    "    df[column_name] = pd.to_numeric(df[column_name], errors='coerce')\n",
    "    \n",
    "    # Calculate the mean and median\n",
    "    mean_value = df[column_name].mean()\n",
    "    median_value = df[column_name].median()\n",
    "    \n",
    "    # Display the results\n",
    "    print(f\"Column '{column_name}':\")\n",
    "    print(f\"  Mean: {mean_value}\")\n",
    "    print(f\"  Median: {median_value}\")\n",
    "    print(\"\\n\" + \"-\"*50 + \"\\n\")\n"
   ]
  },
  {
   "cell_type": "code",
   "execution_count": 2,
   "metadata": {},
   "outputs": [],
   "source": [
    "# Save the cleaned DataFrame to a new CSV file\n",
    "df.to_csv('D:/diabetes+130-us+hospitals+for+years+1999-2008/cleaned_diabetic_data_without_Median.csv', index=False)"
   ]
  },
  {
   "cell_type": "code",
   "execution_count": 3,
   "metadata": {},
   "outputs": [],
   "source": [
    "# Define median values for each column\n",
    "median_values = {\n",
    "    'diag_1': 440.0,\n",
    "    'diag_2': 425.0,\n",
    "    'diag_3': 403.0\n",
    "}\n",
    "\n",
    "# Replace '?' with the median value for each column\n",
    "for column_name in columns_to_check:\n",
    "    # Replace '?' with NaN\n",
    "    df[column_name].replace('?', pd.NA, inplace=True)\n",
    "    \n",
    "    # Convert column to numeric\n",
    "    df[column_name] = pd.to_numeric(df[column_name], errors='coerce')\n",
    "    \n",
    "    # Replace NaN values with the median\n",
    "    df[column_name].fillna(median_values[column_name], inplace=True)"
   ]
  },
  {
   "cell_type": "code",
   "execution_count": 4,
   "metadata": {},
   "outputs": [],
   "source": [
    "# Save the cleaned DataFrame to a new CSV file\n",
    "df.to_csv('D:/diabetes+130-us+hospitals+for+years+1999-2008/cleaned_diabetic_data_with_Median.csv', index=False)"
   ]
  }
 ],
 "metadata": {
  "kernelspec": {
   "display_name": "Python 3",
   "language": "python",
   "name": "python3"
  },
  "language_info": {
   "codemirror_mode": {
    "name": "ipython",
    "version": 3
   },
   "file_extension": ".py",
   "mimetype": "text/x-python",
   "name": "python",
   "nbconvert_exporter": "python",
   "pygments_lexer": "ipython3",
   "version": "3.10.11"
  }
 },
 "nbformat": 4,
 "nbformat_minor": 2
}
